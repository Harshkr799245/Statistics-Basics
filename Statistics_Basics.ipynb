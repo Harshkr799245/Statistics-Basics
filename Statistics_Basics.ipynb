{
  "nbformat": 4,
  "nbformat_minor": 0,
  "metadata": {
    "colab": {
      "provenance": []
    },
    "kernelspec": {
      "name": "python3",
      "display_name": "Python 3"
    },
    "language_info": {
      "name": "python"
    }
  },
  "cells": [
    {
      "cell_type": "markdown",
      "source": [
        "1. What is statistics, and why is it important?  \n",
        "  - Statistics is the science of collecting, analyzing, interpreting, presenting, and organizing data. It helps in making informed decisions based on data and is widely used in fields like economics, medicine, social sciences, business, and engineering.\n",
        "\n",
        "2. What are the two main types of statistics?\n",
        "  - The two main types are:\n",
        "\n",
        "   - Descriptive statistics: Summarizes data using measures such as mean, median, and mode.\n",
        "\n",
        "  - Inferential statistics: Makes predictions or inferences about a population based on a sample of data.  \n",
        "\n",
        "3. What are descriptive statistics?\n",
        "  - Descriptive statistics involve summarizing and organizing data using tables, graphs, and numerical measures (mean, median, mode, etc.). It provides a simple overview of the dataset\n",
        "\n",
        "4. What is inferential statistics?  \n",
        " - Inferential statistics uses data from a sample to make generalizations or predictions about a population. Techniques include hypothesis testing, confidence intervals, and regression analysis.\n",
        "\n",
        "5. What is sampling in statistics?  \n",
        "  - Sampling is the process of selecting a subset (sample) from a larger group (population) to estimate characteristics of the whole group.\n",
        "\n",
        "6. What are the different types of sampling methods?\n",
        "  - Sampling methods include:\n",
        "\n",
        "  - Simple random sampling\n",
        "\n",
        "  - Systematic sampling\n",
        "\n",
        "  - Stratified sampling\n",
        "\n",
        "  - Cluster sampling\n",
        "\n",
        "  - Convenience sampling\n",
        "\n",
        "7. What is the difference between random and non-random sampling?\n",
        "  - Random sampling: Each member of the population has an equal chance of being selected.\n",
        "\n",
        "  - Non-random sampling: Selection is based on non-random criteria, possibly introducing bias (e.g., convenience sampling).\n",
        "\n",
        "\n",
        "8. Define and give examples of qualitative and quantitative data.\n",
        "  - Qualitative data: Describes categories or labels (e.g., colors, gender, types of cars).\n",
        "\n",
        "  - Quantitative data: Numerical data (e.g., height, weight, test scores).\n",
        "\n",
        "9. What are the different types of data in statistics?\n",
        "  - Types include:\n",
        "\n",
        "  - Qualitative (categorical)\n",
        "\n",
        "  - Quantitative (numerical), which can be further divided into:\n",
        "\n",
        "    - Discrete data (countable, e.g., number of students)\n",
        "\n",
        "    - Continuous data (measurable, e.g., height)\n",
        "\n",
        "10. Explain nominal, ordinal, interval, and ratio levels of measurement.\n",
        "  - Nominal: Categories without order (e.g., colors).\n",
        "\n",
        "  - Ordinal: Categories with a meaningful order (e.g., rankings).\n",
        "\n",
        "  - Interval: Numerical data with equal intervals but no true zero (e.g., temperature in Celsius).\n",
        "\n",
        "  - Ratio: Like interval, but with a true zero (e.g., weight, height).\n",
        "\n",
        "11. What is the measure of central tendency?  \n",
        "  - It refers to statistical measures that describe the center or average of a dataset: mean, median, and mode.\n",
        "\n",
        "12. Define mean, median, and mode.\n",
        "  - Mean: Arithmetic average.\n",
        "\n",
        "  - Median: Middle value in an ordered dataset.\n",
        "\n",
        "  - Mode: Most frequently occurring value.\n",
        "\n",
        "13. What is the significance of the measure of central tendency?\n",
        "  - It helps summarize a large dataset with a single value that represents the entire distribution and gives insight into the data's general trend.\n",
        "\n",
        "14. What is variance, and how is it calculated?\n",
        "  - Variance measures the average squared deviation from the mean. It is calculated as:σ² = Σ(xᵢ - μ)² / N for population, or divide by (n-1) for a sample.\n",
        "\n",
        "15. What is standard deviation, and why is it important?\n",
        "  - Standard deviation is the square root of variance. It indicates how much individual data points deviate from the mean, helping assess data spread.\n",
        "\n",
        "16. Define and explain the term range in statistics.\n",
        "  - Range is the difference between the highest and lowest values in a dataset. It provides a simple measure of data spread.\n",
        "\n",
        "17. What is the difference between variance and standard deviation?\n",
        "  - Variance: Average of squared deviations.\n",
        "\n",
        "  - Standard deviation: Square root of variance, in the same units as the data.\n",
        "\n",
        "18. What is skewness in a dataset?\n",
        "  - Skewness measures the asymmetry of a dataset's distribution. A skewed distribution is not symmetric around the mean.\n",
        "\n",
        "19. What does it mean if a dataset is positively or negatively skewed?\n",
        "  - Positively skewed: Tail on the right, mean > median.\n",
        "\n",
        "  - Negatively skewed: Tail on the left, mean < median.\n",
        "\n",
        "20. Define and explain kurtosis.\n",
        "  - Kurtosis measures the \"tailedness\" of a distribution. High kurtosis means more outliers; low kurtosis means fewer outliers.\n",
        "\n",
        "21. What is the purpose of covariance?\n",
        "  - Covariance measures how two variables change together. A positive value indicates they increase together; negative means one increases as the other decreases.\n",
        "\n",
        "22. What does correlation measure in statistics?\n",
        "  - Correlation quantifies the strength and direction of the relationship between two variables, ranging from -1 to +1.\n",
        "\n",
        "23. What is the difference between covariance and correlation?\n",
        "  - Covariance: Measures the directional relationship, with no fixed range.\n",
        "\n",
        "  - Correlation: Standardized form of covariance, bounded between -1 and 1.\n",
        "\n",
        "24. What are some real-world applications of statistics?\n",
        "  - Healthcare: Clinical trials and drug effectiveness\n",
        "\n",
        "  - Business: Market analysis and forecasting\n",
        "\n",
        "  - Education: Performance evaluation\n",
        "\n",
        "  - Government: Census and policy-making\n",
        "\n",
        "  - Sports: Player statistics and performance metrics\n"
      ],
      "metadata": {
        "id": "1L3WXP6Qo_1v"
      }
    },
    {
      "cell_type": "markdown",
      "source": [
        "#Practical"
      ],
      "metadata": {
        "id": "n4b4EQjTvFHW"
      }
    },
    {
      "cell_type": "markdown",
      "source": [
        "1. How do you calculate the mean, median, and mode of a dataset.\n"
      ],
      "metadata": {
        "id": "i94x650Fyoc9"
      }
    },
    {
      "cell_type": "code",
      "source": [
        "import numpy as np\n",
        "from scipy import stats\n",
        "\n",
        "# Example dataset\n",
        "data = [10, 15, 20, 20, 25, 30, 35]\n",
        "\n",
        "# Mean\n",
        "mean = np.mean(data)\n",
        "\n",
        "# Median\n",
        "median = np.median(data)\n",
        "\n",
        "# Mode\n",
        "mode = stats.mode(data, keepdims=True).mode[0]  # `keepdims=True` to avoid warning in newer SciPy versions\n",
        "\n",
        "# Output\n",
        "print(\"Mean:\", mean)\n",
        "print(\"Median:\", median)\n",
        "print(\"Mode:\", mode)\n"
      ],
      "metadata": {
        "colab": {
          "base_uri": "https://localhost:8080/"
        },
        "id": "7idWprhtypwC",
        "outputId": "b182cdd9-2432-43c0-a487-5b8d399e64e9"
      },
      "execution_count": null,
      "outputs": [
        {
          "output_type": "stream",
          "name": "stdout",
          "text": [
            "Mean: 22.142857142857142\n",
            "Median: 20.0\n",
            "Mode: 20\n"
          ]
        }
      ]
    },
    {
      "cell_type": "markdown",
      "source": [
        "2.  Write a Python program to compute the variance and standard deviation of a dataset.\n"
      ],
      "metadata": {
        "id": "5EiGvY5-vwDa"
      }
    },
    {
      "cell_type": "code",
      "source": [
        "variance = np.var(data, ddof=1)\n",
        "std_dev = np.std(data, ddof=1)\n",
        "\n",
        "print(\"Variance:\", variance)\n",
        "print(\"Standard Deviation:\", std_dev)\n"
      ],
      "metadata": {
        "colab": {
          "base_uri": "https://localhost:8080/"
        },
        "id": "ND277MRYv7M4",
        "outputId": "f5032bae-794f-4af6-8c6d-e55ddb7bc5c1"
      },
      "execution_count": null,
      "outputs": [
        {
          "output_type": "stream",
          "name": "stdout",
          "text": [
            "Variance: 73.80952380952381\n",
            "Standard Deviation: 8.591246929842246\n"
          ]
        }
      ]
    },
    {
      "cell_type": "markdown",
      "source": [
        "3. Create a dataset and classify it into nominal, ordinal, interval, and ratio types.\n"
      ],
      "metadata": {
        "id": "3-fssnFewBpZ"
      }
    },
    {
      "cell_type": "code",
      "source": [
        "dataset = {\n",
        "    \"nominal\": [\"red\", \"blue\", \"green\"],\n",
        "    \"ordinal\": [\"low\", \"medium\", \"high\"],\n",
        "    \"interval\": [10, 20, 30],  # temperature in Celsius\n",
        "    \"ratio\": [0, 5, 10, 15]    # weight in kg\n",
        "}\n"
      ],
      "metadata": {
        "id": "o5jsJBOHwIdY"
      },
      "execution_count": null,
      "outputs": []
    },
    {
      "cell_type": "markdown",
      "source": [
        "4. Implement sampling techniques like random sampling and stratified sampling.\n"
      ],
      "metadata": {
        "id": "RZSKgYY3wRLt"
      }
    },
    {
      "cell_type": "code",
      "source": [
        "import pandas as pd\n",
        "from sklearn.model_selection import train_test_split\n",
        "\n",
        "df = pd.DataFrame({\n",
        "    'Group': ['A', 'A', 'B', 'B', 'B', 'C', 'C', 'C', 'C'],\n",
        "    'Value': np.random.randint(1, 100, 9)\n",
        "})\n",
        "\n",
        "# Random Sampling\n",
        "random_sample = df.sample(n=4)\n",
        "\n",
        "# Stratified Sampling\n",
        "stratified_sample, _ = train_test_split(df, stratify=df['Group'], test_size=0.5)\n",
        "\n",
        "print(\"Random Sample:\\n\", random_sample)\n",
        "print(\"Stratified Sample:\\n\", stratified_sample)\n"
      ],
      "metadata": {
        "colab": {
          "base_uri": "https://localhost:8080/"
        },
        "id": "iHxzPikvwXYG",
        "outputId": "5f60defc-744f-4496-b6b3-0ac39d2c4adc"
      },
      "execution_count": null,
      "outputs": [
        {
          "output_type": "stream",
          "name": "stdout",
          "text": [
            "Random Sample:\n",
            "   Group  Value\n",
            "4     B     19\n",
            "2     B     69\n",
            "7     C      9\n",
            "1     A     30\n",
            "Stratified Sample:\n",
            "   Group  Value\n",
            "5     C     34\n",
            "0     A     32\n",
            "4     B     19\n",
            "6     C     28\n"
          ]
        }
      ]
    },
    {
      "cell_type": "markdown",
      "source": [
        "5.  Write a Python function to calculate the range of a dataset.\n"
      ],
      "metadata": {
        "id": "vc6QjTeFwbLV"
      }
    },
    {
      "cell_type": "code",
      "source": [
        "def data_range(data):\n",
        "    return max(data) - min(data)\n",
        "\n",
        "print(\"Range:\", data_range(data))\n"
      ],
      "metadata": {
        "colab": {
          "base_uri": "https://localhost:8080/"
        },
        "id": "k56ywkfqwf-Q",
        "outputId": "731225f1-9fab-4c16-c05b-fc4d5e7aa80a"
      },
      "execution_count": null,
      "outputs": [
        {
          "output_type": "stream",
          "name": "stdout",
          "text": [
            "Range: 25\n"
          ]
        }
      ]
    },
    {
      "cell_type": "markdown",
      "source": [
        "6. Create a dataset and plot its histogram to visualize skewness.\n"
      ],
      "metadata": {
        "id": "MHNhul1lwlTG"
      }
    },
    {
      "cell_type": "code",
      "source": [
        "import matplotlib.pyplot as plt\n",
        "import seaborn as sns\n",
        "\n",
        "sns.histplot(data, kde=True)\n",
        "plt.title(\"Histogram with KDE\")\n",
        "plt.show()\n"
      ],
      "metadata": {
        "colab": {
          "base_uri": "https://localhost:8080/",
          "height": 452
        },
        "id": "sjGXLNqZwqXR",
        "outputId": "869d3a0d-dc40-4886-83eb-c0b767350b35"
      },
      "execution_count": null,
      "outputs": [
        {
          "output_type": "display_data",
          "data": {
            "text/plain": [
              "<Figure size 640x480 with 1 Axes>"
            ],
            "image/png": "[encoded data removed]"
          },
          "metadata": {}
        }
      ]
    },
    {
      "cell_type": "markdown",
      "source": [
        "7.  Calculate skewness and kurtosis of a dataset using Python libraries.\n"
      ],
      "metadata": {
        "id": "CVPCbFkgwt1c"
      }
    },
    {
      "cell_type": "code",
      "source": [
        "skew = stats.skew(data)\n",
        "kurt = stats.kurtosis(data)\n",
        "\n",
        "print(\"Skewness:\", skew)\n",
        "print(\"Kurtosis:\", kurt)\n"
      ],
      "metadata": {
        "colab": {
          "base_uri": "https://localhost:8080/"
        },
        "id": "ufeTRFcqwymI",
        "outputId": "42604c8b-22de-46ea-b0f2-0e0d68a940f9"
      },
      "execution_count": null,
      "outputs": [
        {
          "output_type": "stream",
          "name": "stdout",
          "text": [
            "Skewness: 0.1303586869549173\n",
            "Kurtosis: -1.0158688865764829\n"
          ]
        }
      ]
    },
    {
      "cell_type": "markdown",
      "source": [
        "8. Generate a dataset and demonstrate positive and negative skewness.\n"
      ],
      "metadata": {
        "id": "YhFUym90w1ra"
      }
    },
    {
      "cell_type": "code",
      "source": [
        "# Positive skew\n",
        "pos_skew = [1, 2, 2, 3, 10]\n",
        "# Negative skew\n",
        "neg_skew = [10, 9, 8, 8, 7, 1]\n",
        "\n",
        "print(\"Positive Skewness:\", stats.skew(pos_skew))\n",
        "print(\"Negative Skewness:\", stats.skew(neg_skew))\n"
      ],
      "metadata": {
        "colab": {
          "base_uri": "https://localhost:8080/"
        },
        "id": "a_KeOxt9w724",
        "outputId": "6a748b8c-4996-47a3-b953-7be90a6ee34a"
      },
      "execution_count": null,
      "outputs": [
        {
          "output_type": "stream",
          "name": "stdout",
          "text": [
            "Positive Skewness: 1.3608927294433224\n",
            "Negative Skewness: -1.3817454887049414\n"
          ]
        }
      ]
    },
    {
      "cell_type": "markdown",
      "source": [
        "9. Write a Python script to calculate covariance between two datasets.\n"
      ],
      "metadata": {
        "id": "ez-gti5hxABM"
      }
    },
    {
      "cell_type": "code",
      "source": [
        "x = [2, 4, 6, 8]\n",
        "y = [1, 3, 2, 5]\n",
        "\n",
        "cov_matrix = np.cov(x, y)\n",
        "print(\"Covariance Matrix:\\n\", cov_matrix)\n"
      ],
      "metadata": {
        "colab": {
          "base_uri": "https://localhost:8080/"
        },
        "id": "rLUYyHYfxIUU",
        "outputId": "f81e62fc-7d23-4d2f-f40d-087b0552f42d"
      },
      "execution_count": null,
      "outputs": [
        {
          "output_type": "stream",
          "name": "stdout",
          "text": [
            "Covariance Matrix:\n",
            " [[6.66666667 3.66666667]\n",
            " [3.66666667 2.91666667]]\n"
          ]
        }
      ]
    },
    {
      "cell_type": "markdown",
      "source": [
        "10.  Write a Python script to calculate the correlation coefficient between two datasets.\n"
      ],
      "metadata": {
        "id": "1TGwPrfexLHZ"
      }
    },
    {
      "cell_type": "code",
      "source": [
        "import numpy as np\n",
        "\n",
        "# datasets\n",
        "x = np.array([10, 20, 30, 40, 50])\n",
        "y = np.array([5, 15, 25, 35, 45])\n",
        "\n",
        "# Calculate Pearson correlation coefficient using numpy\n",
        "correlation_matrix = np.corrcoef(x, y)\n",
        "correlation_coefficient = correlation_matrix[0, 1]\n",
        "\n",
        "print(\"Pearson Correlation Coefficient:\", correlation_coefficient)\n"
      ],
      "metadata": {
        "colab": {
          "base_uri": "https://localhost:8080/"
        },
        "id": "_5vgPbk7xQ94",
        "outputId": "c8ca6d8c-6d2b-4d55-a651-79d8e3f557bd"
      },
      "execution_count": null,
      "outputs": [
        {
          "output_type": "stream",
          "name": "stdout",
          "text": [
            "Pearson Correlation Coefficient: 1.0\n"
          ]
        }
      ]
    },
    {
      "cell_type": "markdown",
      "source": [
        "11. Create a scatter plot to visualize the relationship between two variables.\n"
      ],
      "metadata": {
        "id": "Kq_2HkVJy9E0"
      }
    },
    {
      "cell_type": "code",
      "source": [
        "import matplotlib.pyplot as plt\n",
        "\n",
        "# Sample data for two variables\n",
        "x = [5, 7, 8, 7, 2, 17, 2, 9, 4, 11]\n",
        "y = [99, 86, 87, 88, 100, 86, 103, 87, 94, 78]\n",
        "\n",
        "# Create scatter plot\n",
        "plt.scatter(x, y, color='blue', marker='o')\n",
        "\n",
        "# Add labels and title\n",
        "plt.title('Scatter Plot of X vs Y')\n",
        "plt.xlabel('X Variable')\n",
        "plt.ylabel('Y Variable')\n",
        "\n",
        "# Show plot\n",
        "plt.grid(True)\n",
        "plt.show()\n"
      ],
      "metadata": {
        "colab": {
          "base_uri": "https://localhost:8080/",
          "height": 472
        },
        "id": "eJh-QvdOzN1F",
        "outputId": "559d9992-8dcd-46a8-d08a-2f601795bc14"
      },
      "execution_count": null,
      "outputs": [
        {
          "output_type": "display_data",
          "data": {
            "text/plain": [
              "<Figure size 640x480 with 1 Axes>"
            ],
            "image/png": "[encoded data removed]"
          },
          "metadata": {}
        }
      ]
    },
    {
      "cell_type": "markdown",
      "source": [
        "12. Implement and compare simple random sampling and systematic sampling.\n"
      ],
      "metadata": {
        "id": "4FKu8vsCzCpB"
      }
    },
    {
      "cell_type": "code",
      "source": [
        "import numpy as np\n",
        "import pandas as pd\n",
        "\n",
        "# Create a dummy population dataset (1 to 100)\n",
        "population = np.arange(1, 101)\n",
        "population_df = pd.DataFrame(population, columns=['Value'])\n",
        "\n",
        "# Sample size\n",
        "sample_size = 10\n",
        "\n",
        "# --- Simple Random Sampling ---\n",
        "srs_sample = population_df.sample(n=sample_size, random_state=42)\n",
        "srs_mean = srs_sample['Value'].mean()\n",
        "\n",
        "# --- Systematic Sampling ---\n",
        "k = len(population) // sample_size  # Sampling interval\n",
        "start = np.random.randint(0, k)     # Random start point\n",
        "systematic_indices = np.arange(start, start + k * sample_size, k)\n",
        "systematic_sample = population_df.iloc[systematic_indices]\n",
        "systematic_mean = systematic_sample['Value'].mean()\n",
        "\n",
        "# --- Display Results ---\n",
        "print(\"Simple Random Sampling Sample:\\n\", srs_sample)\n",
        "print(\"Simple Random Sampling Mean:\", srs_mean)\n",
        "print(\"\\nSystematic Sampling Sample:\\n\", systematic_sample)\n",
        "print(\"Systematic Sampling Mean:\", systematic_mean)\n"
      ],
      "metadata": {
        "colab": {
          "base_uri": "https://localhost:8080/"
        },
        "id": "ZJ541NjizWl9",
        "outputId": "c1f5b9f5-f61b-463d-858c-05e6d2e6f56d"
      },
      "execution_count": null,
      "outputs": [
        {
          "output_type": "stream",
          "name": "stdout",
          "text": [
            "Simple Random Sampling Sample:\n",
            "     Value\n",
            "83     84\n",
            "53     54\n",
            "70     71\n",
            "45     46\n",
            "44     45\n",
            "39     40\n",
            "22     23\n",
            "80     81\n",
            "10     11\n",
            "0       1\n",
            "Simple Random Sampling Mean: 45.6\n",
            "\n",
            "Systematic Sampling Sample:\n",
            "     Value\n",
            "6       7\n",
            "16     17\n",
            "26     27\n",
            "36     37\n",
            "46     47\n",
            "56     57\n",
            "66     67\n",
            "76     77\n",
            "86     87\n",
            "96     97\n",
            "Systematic Sampling Mean: 52.0\n"
          ]
        }
      ]
    },
    {
      "cell_type": "markdown",
      "source": [
        "13. Calculate the mean, median, and mode of grouped data.\n"
      ],
      "metadata": {
        "id": "3Aq9juXYzt2y"
      }
    },
    {
      "cell_type": "code",
      "source": [
        "# Class intervals and frequencies\n",
        "classes = [(0, 10), (10, 20), (20, 30), (30, 40), (40, 50)]\n",
        "frequencies = [5, 8, 15, 16, 6]\n",
        "\n",
        "# Total frequency\n",
        "N = sum(frequencies)\n",
        "\n",
        "# Step 1: Mean\n",
        "midpoints = [(a + b) / 2 for a, b in classes]\n",
        "fx = [f * x for f, x in zip(frequencies, midpoints)]\n",
        "mean = sum(fx) / N\n",
        "\n",
        "# Step 2: Median\n",
        "cumulative = [sum(frequencies[:i+1]) for i in range(len(frequencies))]\n",
        "for i, cf in enumerate(cumulative):\n",
        "    if cf >= N/2:\n",
        "        median_class_index = i\n",
        "        break\n",
        "\n",
        "L = classes[median_class_index][0]\n",
        "f = frequencies[median_class_index]\n",
        "CF = cumulative[median_class_index - 1] if median_class_index > 0 else 0\n",
        "h = classes[median_class_index][1] - classes[median_class_index][0]\n",
        "median = L + ((N/2 - CF) / f) * h\n",
        "\n",
        "# Step 3: Mode\n",
        "modal_index = frequencies.index(max(frequencies))\n",
        "L_mode = classes[modal_index][0]\n",
        "f1 = frequencies[modal_index]\n",
        "f0 = frequencies[modal_index - 1] if modal_index > 0 else 0\n",
        "f2 = frequencies[modal_index + 1] if modal_index < len(frequencies) - 1 else 0\n",
        "mode = L_mode + ((f1 - f0) / (2 * f1 - f0 - f2)) * h\n",
        "\n",
        "# Final Results\n",
        "print(\"Mean:\", round(mean, 2))\n",
        "print(\"Median:\", round(median, 2))\n",
        "print(\"Mode:\", round(mode, 2))\n"
      ],
      "metadata": {
        "colab": {
          "base_uri": "https://localhost:8080/"
        },
        "id": "k0_zYrsUzzpR",
        "outputId": "16479bb2-2928-4ed7-d3d4-a1bb9aa490e8"
      },
      "execution_count": null,
      "outputs": [
        {
          "output_type": "stream",
          "name": "stdout",
          "text": [
            "Mean: 27.0\n",
            "Median: 28.0\n",
            "Mode: 30.91\n"
          ]
        }
      ]
    },
    {
      "cell_type": "markdown",
      "source": [
        "14. Simulate data using Python and calculate its central tendency and dispersion.\n"
      ],
      "metadata": {
        "id": "CA4k_HWF1J2P"
      }
    },
    {
      "cell_type": "code",
      "source": [
        "simulated = np.random.normal(50, 10, 100)\n",
        "\n",
        "print(\"Mean:\", np.mean(simulated))\n",
        "print(\"Median:\", np.median(simulated))\n",
        "print(\"Std Dev:\", np.std(simulated, ddof=1))\n"
      ],
      "metadata": {
        "colab": {
          "base_uri": "https://localhost:8080/"
        },
        "id": "BChjFxCt1PAA",
        "outputId": "e9f7ae2a-4fa7-438c-f300-bc6f9c709729"
      },
      "execution_count": null,
      "outputs": [
        {
          "output_type": "stream",
          "name": "stdout",
          "text": [
            "Mean: 48.835763088177124\n",
            "Median: 48.81704194295543\n",
            "Std Dev: 9.666772894739394\n"
          ]
        }
      ]
    },
    {
      "cell_type": "markdown",
      "source": [
        "15.  Use NumPy or pandas to summarize a dataset’s descriptive statistics.\n"
      ],
      "metadata": {
        "id": "i6fT4Bs21hZy"
      }
    },
    {
      "cell_type": "code",
      "source": [
        "import numpy as np\n",
        "\n",
        "marks = np.array([87, 45, 67, 92, 76, 58, 99, 71, 84, 62])\n",
        "\n",
        "print(\"Mean:\", np.mean(marks))\n",
        "print(\"Median:\", np.median(marks))\n",
        "print(\"Standard Deviation:\", np.std(marks))\n",
        "print(\"Minimum:\", np.min(marks))\n",
        "print(\"Maximum:\", np.max(marks))\n"
      ],
      "metadata": {
        "colab": {
          "base_uri": "https://localhost:8080/"
        },
        "id": "WzAf0lm41kpG",
        "outputId": "a8c12960-7932-413f-a739-b8c3e69bd2df"
      },
      "execution_count": null,
      "outputs": [
        {
          "output_type": "stream",
          "name": "stdout",
          "text": [
            "Mean: 74.1\n",
            "Median: 73.5\n",
            "Standard Deviation: 15.87734234687909\n",
            "Minimum: 45\n",
            "Maximum: 99\n"
          ]
        }
      ]
    },
    {
      "cell_type": "markdown",
      "source": [
        "16. Plot a boxplot to understand the spread and identify outliers.\n"
      ],
      "metadata": {
        "id": "t4KxzG7k2hZa"
      }
    },
    {
      "cell_type": "code",
      "source": [
        "import seaborn as sns\n",
        "import matplotlib.pyplot as plt\n",
        "import numpy as np\n",
        "\n",
        "# Sample data\n",
        "data = np.random.normal(loc=50, scale=10, size=100)\n",
        "\n",
        "sns.boxplot(x=data)\n",
        "plt.title(\"Boxplot of Data\")\n",
        "plt.xlabel(\"Values\")\n",
        "plt.show()\n"
      ],
      "metadata": {
        "colab": {
          "base_uri": "https://localhost:8080/",
          "height": 472
        },
        "id": "03ubduf72mSM",
        "outputId": "32e62a41-ad66-4b69-d3dc-b05357582bd1"
      },
      "execution_count": null,
      "outputs": [
        {
          "output_type": "display_data",
          "data": {
            "text/plain": [
              "<Figure size 640x480 with 1 Axes>"
            ],
            "image/png": "[encoded data removed]"
          },
          "metadata": {}
        }
      ]
    },
    {
      "cell_type": "markdown",
      "source": [
        "17.  Calculate the interquartile range (IQR) of a dataset\n"
      ],
      "metadata": {
        "id": "FK7VufYw26y8"
      }
    },
    {
      "cell_type": "code",
      "source": [
        "import numpy as np\n",
        "\n",
        "data = [10, 12, 14, 15, 18, 20, 22, 23, 25, 30]\n",
        "\n",
        "Q1 = np.percentile(data, 25)\n",
        "Q3 = np.percentile(data, 75)\n",
        "\n",
        "IQR = Q3 - Q1\n",
        "print(f\"IQR = {IQR}\")\n"
      ],
      "metadata": {
        "colab": {
          "base_uri": "https://localhost:8080/"
        },
        "id": "g4okYJ7U3AGl",
        "outputId": "5e6a6975-8630-445e-98f0-f6b3745458ab"
      },
      "execution_count": null,
      "outputs": [
        {
          "output_type": "stream",
          "name": "stdout",
          "text": [
            "IQR = 8.5\n"
          ]
        }
      ]
    },
    {
      "cell_type": "markdown",
      "source": [
        "18.  Implement Z-score normalization and explain its significance.\n"
      ],
      "metadata": {
        "id": "Pa-yBLLJ3Oji"
      }
    },
    {
      "cell_type": "code",
      "source": [
        "import numpy as np\n",
        "\n",
        "data = np.array([10, 12, 14, 15, 18, 20, 22, 23, 25, 30])\n",
        "\n",
        "mean = np.mean(data)\n",
        "std_dev = np.std(data)\n",
        "\n",
        "z_scores = (data - mean) / std_dev\n",
        "\n",
        "print(\"Original data:\", data)\n",
        "print(\"Z-score normalized data:\", z_scores)\n"
      ],
      "metadata": {
        "colab": {
          "base_uri": "https://localhost:8080/"
        },
        "id": "ZJ4eo0qG3TAi",
        "outputId": "0053cbea-29f5-439e-c389-5df19b1bf9e7"
      },
      "execution_count": null,
      "outputs": [
        {
          "output_type": "stream",
          "name": "stdout",
          "text": [
            "Original data: [10 12 14 15 18 20 22 23 25 30]\n",
            "Z-score normalized data: [-1.49395325 -1.15823342 -0.82251359 -0.65465367 -0.15107392  0.18464591\n",
            "  0.52036574  0.68822565  1.02394548  1.86324506]\n"
          ]
        }
      ]
    },
    {
      "cell_type": "markdown",
      "source": [
        "19.  Compare two datasets using their standard deviations.\n"
      ],
      "metadata": {
        "id": "PVtA0C2h3gML"
      }
    },
    {
      "cell_type": "code",
      "source": [
        "import numpy as np\n",
        "\n",
        "data1 = [10, 12, 14, 15, 18, 20, 22, 23, 25, 30]\n",
        "data2 = [15, 16, 15, 17, 16, 15, 18, 17, 16, 15]\n",
        "\n",
        "std_dev1 = np.std(data1)\n",
        "std_dev2 = np.std(data2)\n",
        "\n",
        "print(f\"Standard deviation of dataset 1: {std_dev1:.2f}\")\n",
        "print(f\"Standard deviation of dataset 2: {std_dev2:.2f}\")\n",
        "\n",
        "if std_dev1 > std_dev2:\n",
        "    print(\"Dataset 1 is more spread out.\")\n",
        "elif std_dev1 < std_dev2:\n",
        "    print(\"Dataset 2 is more spread out.\")\n",
        "else:\n",
        "    print(\"Both datasets have equal spread.\")\n"
      ],
      "metadata": {
        "colab": {
          "base_uri": "https://localhost:8080/"
        },
        "id": "MCMG0kfl3l3K",
        "outputId": "d6470ba7-d190-41a0-b649-5dc27ace84f4"
      },
      "execution_count": null,
      "outputs": [
        {
          "output_type": "stream",
          "name": "stdout",
          "text": [
            "Standard deviation of dataset 1: 5.96\n",
            "Standard deviation of dataset 2: 1.00\n",
            "Dataset 1 is more spread out.\n"
          ]
        }
      ]
    },
    {
      "cell_type": "markdown",
      "source": [
        "20. Write a Python program to visualize covariance using a heatmap.\n"
      ],
      "metadata": {
        "id": "iHTVIEFI33v_"
      }
    },
    {
      "cell_type": "code",
      "source": [
        "import numpy as np\n",
        "import pandas as pd\n",
        "import seaborn as sns\n",
        "import matplotlib.pyplot as plt\n",
        "\n",
        "# Sample dataset with 3 variables\n",
        "data = {\n",
        "    'X': np.random.normal(0, 1, 100),\n",
        "    'Y': np.random.normal(5, 2, 100),\n",
        "    'Z': np.random.normal(-3, 5, 100)\n",
        "}\n",
        "\n",
        "df = pd.DataFrame(data)\n",
        "\n",
        "# Calculate covariance matrix\n",
        "cov_matrix = df.cov()\n",
        "\n",
        "# Plot heatmap\n",
        "sns.heatmap(cov_matrix, annot=True, cmap='coolwarm')\n",
        "plt.title('Covariance Matrix Heatmap')\n",
        "plt.show()\n"
      ],
      "metadata": {
        "colab": {
          "base_uri": "https://localhost:8080/",
          "height": 452
        },
        "id": "8Efclp8S38xL",
        "outputId": "d4700835-a523-4eaa-c297-7a23ffee6f97"
      },
      "execution_count": null,
      "outputs": [
        {
          "output_type": "display_data",
          "data": {
            "text/plain": [
              "<Figure size 640x480 with 2 Axes>"
            ],
            "image/png": "[encoded data removed]"
          },
          "metadata": {}
        }
      ]
    },
    {
      "cell_type": "markdown",
      "source": [
        "21. Use seaborn to create a correlation matrix for a dataset.\n"
      ],
      "metadata": {
        "id": "nquOKyNa4Ha4"
      }
    },
    {
      "cell_type": "code",
      "source": [
        "import pandas as pd\n",
        "import numpy as np\n",
        "import seaborn as sns\n",
        "import matplotlib.pyplot as plt\n",
        "\n",
        "# Example dataset with 4 variables\n",
        "data = {\n",
        "    'A': np.random.normal(0, 1, 100),\n",
        "    'B': np.random.normal(5, 2, 100),\n",
        "    'C': np.random.normal(-3, 5, 100),\n",
        "    'D': np.random.normal(10, 1, 100)\n",
        "}\n",
        "\n",
        "df = pd.DataFrame(data)\n",
        "\n",
        "# Calculate correlation matrix\n",
        "corr_matrix = df.corr()\n",
        "\n",
        "# Plot correlation heatmap\n",
        "sns.heatmap(corr_matrix, annot=True, cmap='coolwarm', vmin=-1, vmax=1)\n",
        "plt.title('Correlation Matrix Heatmap')\n",
        "plt.show()\n"
      ],
      "metadata": {
        "colab": {
          "base_uri": "https://localhost:8080/",
          "height": 452
        },
        "id": "VA9PnFzX4Oks",
        "outputId": "8907409c-e273-48d6-dc61-960bc4c7f4ae"
      },
      "execution_count": null,
      "outputs": [
        {
          "output_type": "display_data",
          "data": {
            "text/plain": [
              "<Figure size 640x480 with 2 Axes>"
            ],
            "image/png": "[encoded data removed]"
          },
          "metadata": {}
        }
      ]
    },
    {
      "cell_type": "markdown",
      "source": [
        "22.  Generate a dataset and implement both variance and standard deviation computations.\n"
      ],
      "metadata": {
        "id": "dqEWfpSq4i19"
      }
    },
    {
      "cell_type": "code",
      "source": [
        "import numpy as np\n",
        "\n",
        "# Fixed dataset\n",
        "data = np.array([12, 15, 20, 22, 18, 25, 30, 28, 24, 19])\n",
        "\n",
        "print(\"Dataset:\", data)\n",
        "\n",
        "# Calculate variance\n",
        "variance = np.var(data)\n",
        "print(f\"Variance: {variance:.2f}\")\n",
        "\n",
        "# Calculate standard deviation\n",
        "std_dev = np.std(data)\n",
        "print(f\"Standard Deviation: {std_dev:.2f}\")\n"
      ],
      "metadata": {
        "colab": {
          "base_uri": "https://localhost:8080/"
        },
        "id": "3XCC4q354oDU",
        "outputId": "f24681dc-29f6-4dcd-f2e4-cab343f79683"
      },
      "execution_count": null,
      "outputs": [
        {
          "output_type": "stream",
          "name": "stdout",
          "text": [
            "Dataset: [12 15 20 22 18 25 30 28 24 19]\n",
            "Variance: 28.61\n",
            "Standard Deviation: 5.35\n"
          ]
        }
      ]
    },
    {
      "cell_type": "markdown",
      "source": [
        "23. Visualize skewness and kurtosis using Python libraries like matplotlib or seaborn.\n"
      ],
      "metadata": {
        "id": "uXDV_r7646u5"
      }
    },
    {
      "cell_type": "code",
      "source": [
        "import numpy as np\n",
        "import pandas as pd\n",
        "import seaborn as sns\n",
        "import matplotlib.pyplot as plt\n",
        "from scipy.stats import skew, kurtosis\n",
        "\n",
        "# Fixed dataset with skew and kurtosis\n",
        "data = np.array([12, 15, 20, 22, 18, 25, 30, 28, 24, 19])\n",
        "\n",
        "# Calculate skewness and kurtosis\n",
        "data_skewness = skew(data)\n",
        "data_kurtosis = kurtosis(data)\n",
        "\n",
        "print(f\"Skewness: {data_skewness:.2f}\")\n",
        "print(f\"Kurtosis: {data_kurtosis:.2f}\")\n",
        "\n",
        "# Create a DataFrame for seaborn\n",
        "df = pd.DataFrame(data, columns=['Values'])\n",
        "\n",
        "# Plot histogram and KDE to visualize distribution shape\n",
        "sns.histplot(df['Values'], kde=True, bins=8, color='skyblue')\n",
        "\n",
        "plt.title(f'Distribution with Skewness={data_skewness:.2f} and Kurtosis={data_kurtosis:.2f}')\n",
        "plt.xlabel('Values')\n",
        "plt.ylabel('Frequency')\n",
        "plt.show()\n"
      ],
      "metadata": {
        "colab": {
          "base_uri": "https://localhost:8080/",
          "height": 508
        },
        "id": "UEpnwwTI5AGE",
        "outputId": "4dc16cca-b1eb-4118-d696-97dbac4e7758"
      },
      "execution_count": null,
      "outputs": [
        {
          "output_type": "stream",
          "name": "stdout",
          "text": [
            "Skewness: -0.05\n",
            "Kurtosis: -0.90\n"
          ]
        },
        {
          "output_type": "display_data",
          "data": {
            "text/plain": [
              "<Figure size 640x480 with 1 Axes>"
            ],
            "image/png": "[encoded data removed]"
          },
          "metadata": {}
        }
      ]
    },
    {
      "cell_type": "markdown",
      "source": [
        "24.  Implement the Pearson and Spearman correlation coefficients for a dataset."
      ],
      "metadata": {
        "id": "TTXk6Z-j5MdG"
      }
    },
    {
      "cell_type": "code",
      "source": [
        "import numpy as np\n",
        "from scipy.stats import pearsonr, spearmanr\n",
        "\n",
        "# Sample data: two variables X and Y\n",
        "X = np.array([10, 20, 30, 40, 50])\n",
        "Y = np.array([15, 24, 33, 45, 55])\n",
        "\n",
        "# Pearson correlation (measures linear relationship)\n",
        "pearson_corr, pearson_p = pearsonr(X, Y)\n",
        "print(f\"Pearson correlation: {pearson_corr:.3f} (p-value: {pearson_p:.3f})\")\n",
        "\n",
        "# Spearman correlation (measures monotonic relationship)\n",
        "spearman_corr, spearman_p = spearmanr(X, Y)\n",
        "print(f\"Spearman correlation: {spearman_corr:.3f} (p-value: {spearman_p:.3f})\")\n"
      ],
      "metadata": {
        "colab": {
          "base_uri": "https://localhost:8080/"
        },
        "id": "sQOLtnOj5Tr2",
        "outputId": "c611a8bd-9ae8-4d86-f16c-ef0bd773e82e"
      },
      "execution_count": null,
      "outputs": [
        {
          "output_type": "stream",
          "name": "stdout",
          "text": [
            "Pearson correlation: 0.998 (p-value: 0.000)\n",
            "Spearman correlation: 1.000 (p-value: 0.000)\n"
          ]
        }
      ]
    }
  ]
}